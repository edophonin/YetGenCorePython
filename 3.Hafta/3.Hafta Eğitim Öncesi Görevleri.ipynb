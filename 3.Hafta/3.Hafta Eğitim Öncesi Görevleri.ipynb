{
  "cells": [
    {
      "cell_type": "markdown",
      "metadata": {
        "id": "tsD4YVAe_Te2"
      },
      "source": [
        "# Problem 1\n",
        "Bir sayının 7'ye bölünebilir olup olmadığını kontrol etmek \n",
        "için bir program yazın.\n",
        "\n",
        "İpucu: Mod operatörünü (%) kullanabilirsiniz."
      ]
    },
    {
      "cell_type": "code",
      "execution_count": 1,
      "metadata": {
        "id": "NGjvNwKx_Te7"
      },
      "outputs": [
        {
          "name": "stdout",
          "output_type": "stream",
          "text": [
            "Sayı 7 ile tam bölünemez.\n"
          ]
        }
      ],
      "source": [
        "sayi=int(input('Lütfen bir sayı giriniz:'))\n",
        "if sayi%7==0:\n",
        "    print('Sayı 7 ile tam bölünebilir.')\n",
        "elif sayi%7!=0:\n",
        "    print('Sayı 7 ile tam bölünemez.')"
      ]
    },
    {
      "cell_type": "markdown",
      "metadata": {
        "id": "Kg3qiBAI_Te8"
      },
      "source": [
        "# Problem 2\n",
        "Kullanıcıdan vize ve final notu isteyin. Girilen vize notunun %40’ı ve \n",
        "girilen finalnotunun ise %60’ı alınarak yıl sonu not ortalaması hesaplanacaktır. \n",
        "\n",
        "Bu not ortalaması eğer 85 ve üzeri ise AA, \n",
        "\n",
        "75 ve 85 arasında ise BA, \n",
        "\n",
        "70 ve 75 arasında ise BB, \n",
        "\n",
        "65 ve 70 arasında ise CB,\n",
        "\n",
        "60 ve 65 arasında ise CC,\n",
        "\n",
        "55 ve 60 arasında ise DC,\n",
        "\n",
        "50 ve 55 arasında ise DD olarak hesaplanacaktır. \n",
        "\n",
        "Bu öğrencinin yıl sonu toplam notu 50’nin altında ise FF ile dersten kalacaktır. \n",
        "\n",
        "Ayrıca öğrencinin final notu 50’nin altında ise direkt FF ile kalacaktır."
      ]
    },
    {
      "cell_type": "code",
      "execution_count": 19,
      "metadata": {
        "id": "MXTtCxI1_Te8"
      },
      "outputs": [
        {
          "name": "stdout",
          "output_type": "stream",
          "text": [
            "DC\n"
          ]
        }
      ],
      "source": [
        "# 2.Problemin Çözümünü Buraya Yazınız\n",
        "vize=float(input('Lütfen vize notunuzu giriniz:'))\n",
        "final=float(input('Lütfen final notunuzu giriniz:'))\n",
        "notOrt=float((vize*0.4)+(final*0.6))\n",
        "\n",
        "if final<50:\n",
        "    print('FF')\n",
        "\n",
        "\n",
        "elif notOrt>= 85:\n",
        "    print('AA')\n",
        "\n",
        "elif 75<=notOrt and notOrt<85:\n",
        "    print('BA')\n",
        "\n",
        "elif 70<=notOrt and notOrt<75:\n",
        "    print('BB')\n",
        "\n",
        "elif 65<= notOrt and notOrt<70:\n",
        "    print('CB')\n",
        "\n",
        "elif 60<= notOrt and notOrt<65:\n",
        "    print('CC')\n",
        "elif 55<= notOrt and notOrt<60:\n",
        "    print('DC')\n",
        "elif 50<= notOrt and notOrt<55:\n",
        "    print('DD')\n",
        "elif notOrt <50:\n",
        "    print('FF')"
      ]
    },
    {
      "cell_type": "markdown",
      "metadata": {
        "id": "tAoRYCTC_Te8"
      },
      "source": [
        "# Problem 3\n",
        "İki YetGenli Zirve'de karşılaşıyorlar. Birbirlerini tanımak için sorular soruyorlar. Birbirlerine yaşlarını soruyorlar. Akıllarına bir Python programı yazıp, yaşlarını ve isimlerini giriyorlar. Büyük olanın yaşını ekrana yazdıran programı yazıyorlar. Sende bu iki YetGenli'ye destek olmak ister misin?\n",
        "\n",
        "```\n",
        "Birinci YetGenlinin ismi: Ahmet\n",
        "Birinci YetGenlinin yaşı : 20\n",
        "İkinci YetGenlinin ismi: Mehmet\n",
        "İkinci YetGenlinin yaşı : 25\n",
        "Mehmet'in yaşı daha büyük ve yaşı 25'tir.\n",
        "```"
      ]
    },
    {
      "cell_type": "code",
      "execution_count": 3,
      "metadata": {
        "id": "bPjE8W0i_Te8"
      },
      "outputs": [
        {
          "name": "stdout",
          "output_type": "stream",
          "text": [
            "Eda in yaşı daha büyüktür ve yaşı 20dir.\n"
          ]
        }
      ],
      "source": [
        "# 3.Problemin Çözümünü Buraya Yazınız\n",
        "ad1=input('Lütfen adınızı giriniz:')\n",
        "yas1=int(input('Lütfen yaşınızı giriniz<:'))\n",
        "adı2=input('Lütfen adınızı giriniz:')\n",
        "yas2=int(input('Lütfen yaşınızı giriniz:'))\n",
        "if yas1>yas2:\n",
        "    print(f'{ad1} in yaşı daha büyüktür ve yaşı {yas1}dir.')\n",
        "elif yas2>yas1:\n",
        "    print(f'{adı2}in yaşı daha büyüktür ve yaşı {yas2}dir.')"
      ]
    },
    {
      "cell_type": "markdown",
      "metadata": {
        "id": "zBVv8Tyg_Te9"
      },
      "source": [
        "# Problem 4\n",
        "Pandemi döneminde AVM'lerde ateş ölçümü yapılıyor. AVM'ye giren kişinin ateş ölçümü 37.5 derecenin altında ise girişe izin veriliyor. 37.5 derecenin üstünde ise girişe izin verilmiyor. AVM'ye girişe izin verilip verilmediğini ekrana yazdıran bir program yazın.\n",
        "\n",
        "Program sonunda şöyle bir çıktı elde etmelisiniz:\n",
        "\n",
        "```\n",
        "Ateşiniz 37.5 derece. AVM'ye girebilirsin! Maske takmayı unutma!\n",
        "Ateşiniz 37.6 derece. AVM'ye giremezsin! Hemen evine dön!\n",
        "```"
      ]
    },
    {
      "cell_type": "code",
      "execution_count": 1,
      "metadata": {
        "id": "TSAXs8et_Te9"
      },
      "outputs": [
        {
          "name": "stdout",
          "output_type": "stream",
          "text": [
            "Ateşiniz 45.0 derecedir.AVMye giremezsin! Hemen evine dön\n"
          ]
        }
      ],
      "source": [
        "# 4.Problemin Çözümünü Buraya Yazınız\n",
        "ates=float(input('Lütfen bir ölçüm değeri giriniz:'))\n",
        "if ates<37.5:\n",
        "    print(f'Ateşiniz {ates} derece.AVMye girebilirsin!Maske takmayı unutma!')\n",
        "elif ates>37.5:\n",
        "    print(f'Ateşiniz {ates} derecedir.AVMye giremezsin! Hemen evine dön')\n",
        "\n",
        "#Kesme işaretlerinde sorun yaşıyorum hala."
      ]
    },
    {
      "cell_type": "markdown",
      "metadata": {
        "id": "6AEkZrDt_Te9"
      },
      "source": [
        "# Problem 5\n",
        "YetGen bir spor kulübüyle sponsorluk anlaşması yapıyor. Kulüp, sponsorluk anlaşmasına göre her YetGen liderinin beden kitle indeksini hesaplamak istiyor. Spor kulübü, beden kitle indeksini hesaplamak için YetGen Jump Python liderlerinden Berkcan ve Ahmet'i arıyor. Berkcan ve Ahmet, kulübe yardımcı olmak için bir Python programı yazıyorlar. Sende bu iki YetGen liderine destek olmak ister misin?\n",
        "\n",
        "Kullanıcıdan alınan boy ve kilo değerlerine göre beden kitle indeksini hesaplayın ve şu kurallara göre ekrana şu yazıları yazdırın.\n",
        "\n",
        "\n",
        "Beden Kitle İndeksi, kişinin ağırlığının (kg olarak) boyunun karesine (m olarak) bölünmesiyle hesaplanır.\n",
        "\n",
        "\n",
        "```\n",
        " BKİ 18.5'un altındaysa -------> Zayıf\n",
        "\n",
        " BKİ 18.5 ile 25 arasındaysa ------> Normal\n",
        "\n",
        " BKİ 25 ile 30 arasındaysa --------> Fazla Kilolu\n",
        "\n",
        " BKİ 30'un üstündeyse -------------> Obez\n",
        "```\n",
        "\n"
      ]
    },
    {
      "cell_type": "code",
      "execution_count": 7,
      "metadata": {
        "id": "t-XPI_u0_Te-"
      },
      "outputs": [
        {
          "name": "stdout",
          "output_type": "stream",
          "text": [
            "Zayıf\n"
          ]
        }
      ],
      "source": [
        "# 5.Problemin Çözümünü Buraya Yazınız\n",
        "boy=float(input('Lütfen boyunuzu giriniz:'))\n",
        "kilo=float(input('Lütfen kilonuzu giriniz:'))\n",
        "indeks=kilo//(boy**2)\n",
        "if indeks<18.5:\n",
        "    print('Zayıf')\n",
        "if 18.5< indeks < 25:\n",
        "    print('Normal')\n",
        "if 25<indeks<30:\n",
        "    print('Fazla kilolu')\n",
        "if indeks>30:\n",
        "    print('Obez')"
      ]
    },
    {
      "cell_type": "markdown",
      "metadata": {
        "id": "oFsvQyaO_Te-"
      },
      "source": [
        "# Problem 6\n",
        "Kullanıcıdan isim, yaş ve eğitim bilgilerini isteyip ehliyet alabilme  durumunu kontrol ediniz. \n",
        "\n",
        "Ehliyet alma koşulu en az 18 yaşında ve eğitim durumu lise ya da üniversite olmalıdır. "
      ]
    },
    {
      "cell_type": "code",
      "execution_count": 9,
      "metadata": {
        "id": "Tu2mcgco_Te-"
      },
      "outputs": [
        {
          "name": "stdout",
          "output_type": "stream",
          "text": [
            "Eda,20 yaşındasınız.Üniversite eğitim durumunzla beraber ehliyet alabilirsiniz.\n"
          ]
        }
      ],
      "source": [
        "# 6.Problemin Çözümünü Buraya Yazınız\n",
        "isim=input('Lütfen adınızı giriniz:')\n",
        "yas=int(input('Lütfen yaşınızı giriniz:'))\n",
        "egitim=input('Lütfen eğitim bilginizi giriniz:')\n",
        "if yas>=18:\n",
        "    if egitim==('Lise') or egitim==('Üniversite'):\n",
        "        print(f'{isim},{yas} yaşındasınız.{egitim} eğitim durumunuzla beraber ehliyet alabilirsiniz.')\n",
        "else:\n",
        "    print('Ehliyet alamazsınız.')"
      ]
    },
    {
      "cell_type": "markdown",
      "metadata": {
        "id": "eUkxVSAE_Te_"
      },
      "source": [
        "# Problem 7\n",
        "Bir yılın artık yıl olup olmadığını kontrol etmek için bir program yazın. \n",
        "Artık yıl kuralı:\n",
        "\n",
        "a) Eğer yılın son iki basamağı (00) ile bitmiyor ve yalnızca 4'e tam bölünüyorsa artık yıldır. Ya da, \n",
        "\n",
        "b) Eğer yıl 400'e tam bölünüyorsa artık yıldır.\n",
        "\n",
        "**Örneğin**\n",
        "```\n",
        "2017 artık yıl değildir.\n",
        "1900 artık yıl değildir\n",
        "2012 artık yıldır.\n",
        "2000 artık yıldır.\n",
        "```"
      ]
    },
    {
      "cell_type": "code",
      "execution_count": 5,
      "metadata": {
        "id": "4uWh8qUL_Te_"
      },
      "outputs": [],
      "source": [
        "# 7.Problemin Çözümünü Buraya Yazınız\n",
        "yil=int(input('Lütfen yıl giriniz:'))\n",
        "if yil//100!=0 and yil//4==0:\n",
        "    print(f'{yil} artık yıldır.')\n",
        "elif yil//400==0:\n",
        "    print(f'{yil} artık yıl değildir.')\n",
        "#Kod çalışıyor ama sonuç alamıyorum????"
      ]
    }
  ],
  "metadata": {
    "colab": {
      "provenance": []
    },
    "kernelspec": {
      "display_name": "Python 3",
      "language": "python",
      "name": "python3"
    },
    "language_info": {
      "codemirror_mode": {
        "name": "ipython",
        "version": 3
      },
      "file_extension": ".py",
      "mimetype": "text/x-python",
      "name": "python",
      "nbconvert_exporter": "python",
      "pygments_lexer": "ipython3",
      "version": "3.11.0"
    },
    "orig_nbformat": 4,
    "vscode": {
      "interpreter": {
        "hash": "9e1057df05fbfcef6b190a3a9f40ece7b5f62f005c557e9721d4a770d79a7496"
      }
    }
  },
  "nbformat": 4,
  "nbformat_minor": 0
}
