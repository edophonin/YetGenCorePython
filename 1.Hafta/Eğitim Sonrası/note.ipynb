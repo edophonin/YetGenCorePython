{
 "cells": [
  {
   "cell_type": "code",
   "execution_count": null,
   "metadata": {},
   "outputs": [],
   "source": []
  }
 ],
 "metadata": {
  "kernelspec": {
   "display_name": "Python 3",
   "language": "python",
   "name": "python3"
  },
  "language_info": {
   "name": "python",
   "version": "3.11.0"
  },
  "orig_nbformat": 4,
  "vscode": {
   "interpreter": {
    "hash": "9e1057df05fbfcef6b190a3a9f40ece7b5f62f005c557e9721d4a770d79a7496"
   }
  }
 },
 "nbformat": 4,
 "nbformat_minor": 2
}
